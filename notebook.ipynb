{
 "cells": [
  {
   "metadata": {},
   "cell_type": "markdown",
   "source": [
    "# This is a sample Jupyter Notebook\n",
    "\n",
    "Below is an example of a code cell. \n",
    "Put your cursor into the cell and press Shift+Enter to execute it and select the next one, or click 'Run Cell' button.\n",
    "\n",
    "Press Double Shift to search everywhere for classes, files, tool windows, actions, and settings.\n",
    "\n",
    "To learn more about Jupyter Notebooks in PyCharm, see [help](https://www.jetbrains.com/help/pycharm/ipython-notebook-support.html).\n",
    "For an overview of PyCharm, go to Help -> Learn IDE features or refer to [our documentation](https://www.jetbrains.com/help/pycharm/getting-started.html)."
   ],
   "id": "8a77807f92f26ee"
  },
  {
   "metadata": {
    "ExecuteTime": {
     "end_time": "2025-09-25T11:52:40.669604Z",
     "start_time": "2025-09-25T11:52:40.662098Z"
    }
   },
   "cell_type": "code",
   "source": [
    "# Задание 1\n",
    "arr = (1, 5, 7, 15, 9)\n",
    "lst = list(arr)   # кортеж в список\n",
    "i5 = lst.index(5)\n",
    "i15 = lst.index(15)\n",
    "temp = lst[i5]\n",
    "lst[i5] = lst[i15]\n",
    "lst[i15] = temp\n",
    "arr = tuple(lst)  # обратно в кортеж\n",
    "print(arr)"
   ],
   "id": "ba0594b855b1a907",
   "outputs": [
    {
     "name": "stdout",
     "output_type": "stream",
     "text": [
      "(1, 15, 7, 5, 9)\n"
     ]
    }
   ],
   "execution_count": 2
  },
  {
   "metadata": {
    "ExecuteTime": {
     "end_time": "2025-09-25T11:53:23.082342Z",
     "start_time": "2025-09-25T11:53:23.072427Z"
    }
   },
   "cell_type": "code",
   "source": [
    "# Задание 2\n",
    "m = ((2, 3, 5),(7, 1, 6),(9, 4, 8))\n",
    "\n",
    "# поиск максимума и минимума\n",
    "max_val = m[0][0]\n",
    "min_val = m[0][0]\n",
    "row_index = 0\n",
    "col_index = 0\n",
    "for i in range(len(m)):\n",
    "    for j in range(len(m[i])):\n",
    "        if m[i][j] > max_val:\n",
    "            max_val = m[i][j]\n",
    "            row_index = i\n",
    "        if m[i][j] < min_val:\n",
    "            min_val = m[i][j]\n",
    "            col_index = j\n",
    "row = m[row_index]\n",
    "col = []\n",
    "for k in range(len(m)):\n",
    "    col.append(m[k][col_index])\n",
    "# скалярное произведение\n",
    "scalar = 0\n",
    "for x in range(len(row)):\n",
    "    scalar = scalar + row[x] * col[x]\n",
    "\n",
    "print(scalar)"
   ],
   "id": "8d09135f6a478dc2",
   "outputs": [
    {
     "name": "stdout",
     "output_type": "stream",
     "text": [
      "63\n"
     ]
    }
   ],
   "execution_count": 3
  },
  {
   "metadata": {
    "ExecuteTime": {
     "end_time": "2025-09-25T11:55:16.962211Z",
     "start_time": "2025-09-25T11:55:16.943849Z"
    }
   },
   "cell_type": "code",
   "source": [
    "# Задание 3\n",
    "nums = [10, 20, 30, 20, 40]\n",
    "if 20 in nums:\n",
    "    index = nums.index(20)\n",
    "    nums[index] = 200\n",
    "print(nums)"
   ],
   "id": "12f716fb2a76dc7e",
   "outputs": [
    {
     "name": "stdout",
     "output_type": "stream",
     "text": [
      "[10, 200, 30, 20, 40]\n"
     ]
    }
   ],
   "execution_count": 4
  },
  {
   "metadata": {
    "ExecuteTime": {
     "end_time": "2025-09-25T11:55:20.729854Z",
     "start_time": "2025-09-25T11:55:20.711197Z"
    }
   },
   "cell_type": "code",
   "source": [
    "# Задание 4\n",
    "a = [1, 2, 3, 4, 5, 20, 100]\n",
    "b = [3, 4, 5, 6, 7, 20, 50]\n",
    "set1 = set(a)\n",
    "set2 = set(b)\n",
    "common = set1 & set2\n",
    "res = list(common)\n",
    "res.sort()\n",
    "print(res)"
   ],
   "id": "8fc517c19866311a",
   "outputs": [
    {
     "name": "stdout",
     "output_type": "stream",
     "text": [
      "[3, 4, 5, 20]\n"
     ]
    }
   ],
   "execution_count": 5
  },
  {
   "metadata": {
    "ExecuteTime": {
     "end_time": "2025-09-25T11:56:15.715806Z",
     "start_time": "2025-09-25T11:56:15.700444Z"
    }
   },
   "cell_type": "code",
   "source": [
    "# Задание 5\n",
    "s = \"pythonist\"\n",
    "d = {}\n",
    "for ch in s:\n",
    "    if ch in d:\n",
    "        d[ch] = d[ch] + 1\n",
    "    else:\n",
    "        d[ch] = 1\n",
    "print(d)"
   ],
   "id": "139482e5a929fc8b",
   "outputs": [
    {
     "name": "stdout",
     "output_type": "stream",
     "text": [
      "{'p': 1, 'y': 1, 't': 2, 'h': 1, 'o': 1, 'n': 1, 'i': 1, 's': 1}\n"
     ]
    }
   ],
   "execution_count": 6
  }
 ],
 "metadata": {
  "kernelspec": {
   "display_name": "Python 3",
   "language": "python",
   "name": "python3"
  },
  "language_info": {
   "codemirror_mode": {
    "name": "ipython",
    "version": 2
   },
   "file_extension": ".py",
   "mimetype": "text/x-python",
   "name": "python",
   "nbconvert_exporter": "python",
   "pygments_lexer": "ipython2",
   "version": "2.7.6"
  }
 },
 "nbformat": 4,
 "nbformat_minor": 5
}
